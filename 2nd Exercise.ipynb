{
 "cells": [
  {
   "cell_type": "code",
   "execution_count": 8,
   "id": "636f6b58-38ae-42ee-aa86-b8860a7abdb0",
   "metadata": {},
   "outputs": [
    {
     "name": "stdout",
     "output_type": "stream",
     "text": [
      "My Age is: 28\n"
     ]
    }
   ],
   "source": [
    "# Declaring age as a integer\n",
    "Age = 28\n",
    "print(\"My Age is:\",Age)"
   ]
  },
  {
   "cell_type": "code",
   "execution_count": 10,
   "id": "78eea59d-dcd8-480e-b2f7-abbf4e4ce38a",
   "metadata": {},
   "outputs": [
    {
     "name": "stdout",
     "output_type": "stream",
     "text": [
      "My Height is: 1.68\n"
     ]
    }
   ],
   "source": [
    "# Declaring height as a float\n",
    "Height = 1.68\n",
    "print (\"My Height is:\" , Height)"
   ]
  },
  {
   "cell_type": "code",
   "execution_count": 12,
   "id": "7f603282-675b-42d0-ae09-cf62fcbeb8bd",
   "metadata": {},
   "outputs": [
    {
     "name": "stdout",
     "output_type": "stream",
     "text": [
      "The Complex_number is: (3+4j)\n"
     ]
    }
   ],
   "source": [
    "# Declaring a variable that stores a complex number\n",
    "Complex_number = 3 + 4j\n",
    "print (\"The Complex_number is:\" , Complex_number)"
   ]
  },
  {
   "cell_type": "code",
   "execution_count": 21,
   "id": "1350b604-5659-4a8c-8854-053afeef26cd",
   "metadata": {},
   "outputs": [
    {
     "name": "stdout",
     "output_type": "stream",
     "text": [
      "Enter Height: 20\n",
      "Enter Base: 10\n",
      "The area of the triangle is: 100.0\n"
     ]
    }
   ],
   "source": [
    "h = 20\n",
    "b = 10\n",
    "area_of_triangle = (0.5 * b * h)\n",
    "print (\"Enter Height:\" ,h)\n",
    "print (\"Enter Base:\" , b)\n",
    "print (\"The area of the triangle is:\" , area_of_triangle)"
   ]
  },
  {
   "cell_type": "code",
   "execution_count": 44,
   "id": "887ab7b0-ba49-4352-bcad-c45c47168e72",
   "metadata": {},
   "outputs": [
    {
     "name": "stdin",
     "output_type": "stream",
     "text": [
      "Enter side_a: 5\n",
      "Enter side_b: 4\n",
      "Enter side_c: 3\n"
     ]
    },
    {
     "name": "stdout",
     "output_type": "stream",
     "text": [
      "The perimeter of the triangle is: 12.0\n"
     ]
    }
   ],
   "source": [
    "# Prompt user to enter the side a of triangle and calculating the perimeter\n",
    "side_a = float(input(\"Enter side_a:\"))\n",
    "side_b = float(input(\"Enter side_b:\"))\n",
    "side_c = float(input(\"Enter side_c:\"))\n",
    "perimeter = side_a + side_b + side_c\n",
    "print(\"The perimeter of the triangle is:\", perimeter)"
   ]
  },
  {
   "cell_type": "code",
   "execution_count": 48,
   "id": "7da20889-60b5-4bb7-8c6f-ca9b776aa8a5",
   "metadata": {},
   "outputs": [
    {
     "name": "stdin",
     "output_type": "stream",
     "text": [
      "Enter lenghth: 10\n",
      "Enter width: 20\n"
     ]
    },
    {
     "name": "stdout",
     "output_type": "stream",
     "text": [
      "The area of the rectangle is: 200.0\n",
      "The perimeter of the rectangle is: 60.0\n"
     ]
    }
   ],
   "source": [
    "# Promt user to calculate the area and perimeter of a rectangle\n",
    "length = float(input(\"Enter lenghth:\"))\n",
    "width = float(input(\"Enter width:\"))\n",
    "area = length * breadth\n",
    "perimeter = 2*(length+width)\n",
    "print(\"The area of the rectangle is:\", area)\n",
    "print(\"The perimeter of the rectangle is:\", perimeter)\n"
   ]
  },
  {
   "cell_type": "code",
   "execution_count": 66,
   "id": "46fed750-42b5-425d-ab53-38e24c14a34d",
   "metadata": {},
   "outputs": [
    {
     "name": "stdin",
     "output_type": "stream",
     "text": [
      "Enter radius: 2\n"
     ]
    },
    {
     "name": "stdout",
     "output_type": "stream",
     "text": [
      "The area of the circle is: 12.56\n",
      "The circumference of the circle is: 12.56\n"
     ]
    }
   ],
   "source": [
    "# Prompt user to calculate the area of a circle\n",
    "radius = float(input(\"Enter radius:\"))\n",
    "import math\n",
    "pi = 3.14\n",
    "area = pi * radius ** 2\n",
    "circumference = 2 * pi * radius\n",
    "print(\"The area of the circle is:\", area)\n",
    "print(\"The circumference of the circle is:\", circumference)"
   ]
  },
  {
   "cell_type": "code",
   "execution_count": 118,
   "id": "135cf1cb-bd4f-4c2e-8fb9-c0ad49af6927",
   "metadata": {},
   "outputs": [
    {
     "name": "stdout",
     "output_type": "stream",
     "text": [
      "slope: 2\n",
      "y intercept:,(0, -2)\n",
      "x intercept:, (1.0, 0)\n"
     ]
    }
   ],
   "source": [
    "# Given that y = 2x - 2\n",
    "slope = 2\n",
    "y_intercept = -2\n",
    "x_intercept = -y_intercept / slope\n",
    "print(\"slope:\", slope)\n",
    "print(f\"y intercept:,{0, y_intercept}\")\n",
    "print(f\"x intercept:, {x_intercept, 0}\") "
   ]
  },
  {
   "cell_type": "code",
   "execution_count": 128,
   "id": "83f803ed-ad99-4fd0-b04d-9f70cecff97c",
   "metadata": {},
   "outputs": [
    {
     "name": "stdout",
     "output_type": "stream",
     "text": [
      "slope_m: 2.0\n",
      "Eulidean distance: 8.94427190999916\n"
     ]
    }
   ],
   "source": [
    "# Given the coordinates (2,2), (6,10)\n",
    "import math\n",
    "x1, y1 = 2,2\n",
    "x2, y2 = 6, 10\n",
    "slope_m = (y2 - y1) / (x2 - x1)\n",
    "Eulidean_distance = math.sqrt((x2 - x1)**2 + (y2 -y1)**2)\n",
    "print(\"slope_m:\", slope_m)\n",
    "print(\"Eulidean distance:\", Eulidean_distance)\n"
   ]
  },
  {
   "cell_type": "code",
   "execution_count": 154,
   "id": "1c77c4b8-30ab-4763-a359-24f4fd21568f",
   "metadata": {},
   "outputs": [
    {
     "name": "stdout",
     "output_type": "stream",
     "text": [
      "slope: 2\n",
      "y intercept:,(0, -2)\n",
      "x intercept:, (1.0, 0)\n",
      "slope_m: 2.0\n",
      "Eulidean distance: 8.94427190999916\n",
      "slope_comparison: The slope are the same.\n"
     ]
    }
   ],
   "source": [
    "# Given that y = 2x - 2\n",
    "slope = 2\n",
    "y_intercept = -2\n",
    "x_intercept = -y_intercept / slope\n",
    "print(\"slope:\", slope)\n",
    "print(f\"y intercept:,{0, y_intercept}\")\n",
    "print(f\"x intercept:, {x_intercept, 0}\") \n",
    "\n",
    "# Given the coordinates (2,2), (6,10)\n",
    "import math\n",
    "x1, y1 = 2,2\n",
    "x2, y2 = 6, 10\n",
    "slope_m = (y2 - y1) / (x2 - x1)\n",
    "Eulidean_distance = math.sqrt((x2 - x1)**2 + (y2 -y1)**2)\n",
    "print(\"slope_m:\", slope_m)\n",
    "print(\"Eulidean distance:\", Eulidean_distance)\n",
    "\n",
    "# Comparison\n",
    "if slope == slope_m:\n",
    "   slope_comparison = \"The slope are the same.\"\n",
    "else:\n",
    "     slope_comparison = \"The slope are different.\"\n",
    "print(\"slope_comparison:\", slope_comparison)"
   ]
  },
  {
   "cell_type": "code",
   "execution_count": 156,
   "id": "3bf3b668-6953-48cb-8f6c-6f1dac621d0e",
   "metadata": {},
   "outputs": [
    {
     "name": "stdout",
     "output_type": "stream",
     "text": [
      "length of word1 is: 6\n",
      "lengrh of word2 is: 6\n",
      "Is the word python longer than the word dragon?: False\n"
     ]
    }
   ],
   "source": [
    "# Word defination\n",
    "word1 = \"python\"\n",
    "word2 = \"dragon\"\n",
    "length_of_word1 = len(word1)\n",
    "length_of_word2 = len(word2)\n",
    "# Falsy Comparison statement\n",
    "comparison = length_of_word1 > length_of_word2\n",
    "print(\"length of word1 is:\",length_of_word1)\n",
    "print(\"lengrh of word2 is:\", length_of_word2)\n",
    "print(\"Is the word python longer than the word dragon?:\", comparison) "
   ]
  },
  {
   "cell_type": "code",
   "execution_count": 188,
   "id": "d5afbb6d-d245-403c-b2cb-dbb220aa733d",
   "metadata": {},
   "outputs": [
    {
     "name": "stdout",
     "output_type": "stream",
     "text": [
      "True\n"
     ]
    }
   ],
   "source": [
    "# Define the variable python and dragon.\n",
    "variable1 = \"python\"\n",
    "variable2 = \"dragon\"\n",
    "result = \"on\" in variable1 and \"on\" in variable2\n",
    "print(result)"
   ]
  },
  {
   "cell_type": "code",
   "execution_count": 192,
   "id": "25101e14-d6cc-436c-b596-8483d1f37976",
   "metadata": {},
   "outputs": [
    {
     "name": "stdout",
     "output_type": "stream",
     "text": [
      "True\n"
     ]
    }
   ],
   "source": [
    "# Define sentence \n",
    "sentence = \"I hope this course is not full of jargon\"\n",
    "# Check if jargon is in the sentence \n",
    "result = \"jargon\" in sentence\n",
    "print(result)"
   ]
  },
  {
   "cell_type": "code",
   "execution_count": 210,
   "id": "511eebe7-33e9-40f4-922e-c1cc48243327",
   "metadata": {},
   "outputs": [
    {
     "name": "stdout",
     "output_type": "stream",
     "text": [
      "There is no 'on' in python: True\n"
     ]
    }
   ],
   "source": [
    "string =\"python\"\n",
    "result = \"on\" in string\n",
    "print(\"There is no 'on' in python:\", result)"
   ]
  },
  {
   "cell_type": "code",
   "execution_count": 160,
   "id": "abbc3c92-b222-4a0c-abf2-5ecfcc4c7802",
   "metadata": {},
   "outputs": [
    {
     "name": "stdout",
     "output_type": "stream",
     "text": [
      "Length of the text python is: 6\n",
      "Length as float: 6.0\n",
      "Length as float: 6.0\n"
     ]
    }
   ],
   "source": [
    "# Find the length of the text python and convert the value to float and string\n",
    "Text = \"python\"\n",
    "Length = len(Text)\n",
    "Length_as_float = float(Length)\n",
    "Length_as_string = str(Length_as_float)\n",
    "print(\"Length of the text python is:\", Length)\n",
    "print(\"Length as float:\", Length_as_float)\n",
    "print(\"Length as float:\", Length_as_string) "
   ]
  },
  {
   "cell_type": "code",
   "execution_count": 166,
   "id": "28adaf5e-bdda-4a18-bd10-dfb5f322ed9b",
   "metadata": {},
   "outputs": [
    {
     "name": "stdin",
     "output_type": "stream",
     "text": [
      "Enter a number: 58\n"
     ]
    },
    {
     "name": "stdout",
     "output_type": "stream",
     "text": [
      "(number) is even number.\n"
     ]
    }
   ],
   "source": [
    "# Function to check if number is even\n",
    "def is_even (number):\n",
    "    if number % 2 == 0:\n",
    "        return True\n",
    "    else:\n",
    "        return False\n",
    "\n",
    "# Testing Function\n",
    "number = int(input(\"Enter a number:\"))\n",
    "if is_even(number):\n",
    "    print(\"(number) is even number.\")\n",
    "else:\n",
    "    print(\"(number) is not even number.\")            "
   ]
  },
  {
   "cell_type": "code",
   "execution_count": 170,
   "id": "2c03c664-6d3f-4b71-b302-c838685783e9",
   "metadata": {},
   "outputs": [
    {
     "name": "stdout",
     "output_type": "stream",
     "text": [
      "The floor division of 7 by 3 is: 2\n",
      " The integer conversion of 2.7 is: 2\n",
      "Is the floor division equal to the integer conversion?: True\n"
     ]
    }
   ],
   "source": [
    "# Perform floor divisiom\n",
    "floor_division = 7 // 3\n",
    "\n",
    "# Covert 2.7 to integer\n",
    "int_value = int(2.7)\n",
    "\n",
    "comparison = floor_division == int_value\n",
    "\n",
    "print(\"The floor division of 7 by 3 is:\", floor_division) \n",
    "print(\" The integer conversion of 2.7 is:\", int_value)\n",
    "print(\"Is the floor division equal to the integer conversion?:\", comparison) "
   ]
  },
  {
   "cell_type": "code",
   "execution_count": 176,
   "id": "b258f4fe-89a0-4d1c-bd0c-526d055fa5c1",
   "metadata": {},
   "outputs": [
    {
     "name": "stdout",
     "output_type": "stream",
     "text": [
      "Type 1 result is: <class 'str'>\n",
      "Type 2 result is: <class 'int'>\n",
      "The results are equal: False\n"
     ]
    }
   ],
   "source": [
    "type1 = '10'\n",
    "type2 = 10\n",
    "type1_result = type(type1)\n",
    "type2_result = type(type2)\n",
    "comparison = type1_result == type2_result\n",
    "print(\"Type 1 result is:\", type1_result)\n",
    "print(\"Type 2 result is:\", type2_result)\n",
    "print(\"The results are equal:\", comparison)\n"
   ]
  },
  {
   "cell_type": "code",
   "execution_count": 182,
   "id": "3f8a8232-7c0f-4abc-936e-f75f2eaa5577",
   "metadata": {},
   "outputs": [
    {
     "name": "stdout",
     "output_type": "stream",
     "text": [
      "Value 1 is: 9\n",
      "Value 2 is: 10\n",
      "They are equal: False\n"
     ]
    }
   ],
   "source": [
    "value_1 = '9.8'\n",
    "value2 = 10\n",
    "value_1_result = int(float('9.8'))\n",
    "value_2_result = 10\n",
    "comparison = value_1_result == value_2_result \n",
    "print(\"Value 1 is:\", value_1_result)\n",
    "print(\"Value 2 is:\", value_2_result)\n",
    "print(\"They are equal:\", comparison) \n"
   ]
  },
  {
   "cell_type": "code",
   "execution_count": 79,
   "id": "de56bf23-690b-44a6-8bc4-bd38b067cae1",
   "metadata": {},
   "outputs": [
    {
     "name": "stdin",
     "output_type": "stream",
     "text": [
      "Enter hours: 40\n",
      "Enter rate per hour: 28\n"
     ]
    },
    {
     "name": "stdout",
     "output_type": "stream",
     "text": [
      "The weekly earning is: 1120.0\n"
     ]
    }
   ],
   "source": [
    "# Prompt user to enter hours and rate to calculate pay\n",
    "hours = float(input(\"Enter hours:\"))\n",
    "rate_per_hour = float(input(\"Enter rate per hour:\"))\n",
    "weekly_earning = hours * rate_per_hour\n",
    "print(\"The weekly earning is:\", weekly_earning)"
   ]
  },
  {
   "cell_type": "code",
   "execution_count": 97,
   "id": "47633806-ca79-4062-af77-a88b6cdeff01",
   "metadata": {},
   "outputs": [
    {
     "name": "stdin",
     "output_type": "stream",
     "text": [
      "Enter the number of years you have lived: 100\n"
     ]
    },
    {
     "name": "stdout",
     "output_type": "stream",
     "text": [
      "You have lived for: 3153600000.0 seconds\n"
     ]
    }
   ],
   "source": [
    "# Prompt the user to enter the number of years live and calculate the number of seconds lived\n",
    "number_of_seconds_in_a_year = 365 * 24 * 60 * 60\n",
    "number_of_years = float(input(\"Enter the number of years you have lived:\"))\n",
    "number_of_seconds_lived = number_of_years * number_of_seconds_in_a_year\n",
    "print(\"You have lived for:\",(number_of_seconds_lived), \"seconds\")"
   ]
  },
  {
   "cell_type": "code",
   "execution_count": 103,
   "id": "133babd1-91e3-4c90-b0b0-e98188c2c65a",
   "metadata": {},
   "outputs": [
    {
     "name": "stdout",
     "output_type": "stream",
     "text": [
      "1 1 1 1 1\n",
      "2 1 2 4 8\n",
      "3 1 3 9 27\n",
      "4 1 4 16 8\n",
      "5 1 25 125\n"
     ]
    }
   ],
   "source": [
    "# Table display\n",
    "print (1, 1, 1, 1, 1)\n",
    "print (2, 1, 2, 4, 8)\n",
    "print (3, 1, 3, 9, 27)\n",
    "print (4, 1, 4, 16, 8)\n",
    "print (5, 1, 25, 125)"
   ]
  },
  {
   "cell_type": "code",
   "execution_count": 212,
   "id": "0bf622d8-20d0-4c9f-9b7d-7d3cbe494048",
   "metadata": {},
   "outputs": [
    {
     "data": {
      "text/plain": [
       "'C:\\\\Users\\\\admin\\\\ML Class\\\\Introduction'"
      ]
     },
     "execution_count": 212,
     "metadata": {},
     "output_type": "execute_result"
    }
   ],
   "source": [
    "pwd"
   ]
  },
  {
   "cell_type": "code",
   "execution_count": null,
   "id": "c3f6c912-84e8-48d7-91b2-cc192a71f575",
   "metadata": {},
   "outputs": [],
   "source": []
  }
 ],
 "metadata": {
  "kernelspec": {
   "display_name": "Python 3 (ipykernel)",
   "language": "python",
   "name": "python3"
  },
  "language_info": {
   "codemirror_mode": {
    "name": "ipython",
    "version": 3
   },
   "file_extension": ".py",
   "mimetype": "text/x-python",
   "name": "python",
   "nbconvert_exporter": "python",
   "pygments_lexer": "ipython3",
   "version": "3.12.4"
  }
 },
 "nbformat": 4,
 "nbformat_minor": 5
}
