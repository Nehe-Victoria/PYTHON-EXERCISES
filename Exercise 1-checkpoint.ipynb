{
 "cells": [
  {
   "cell_type": "code",
   "execution_count": 1,
   "id": "7d238836-70b8-4ca7-8745-4f4439b342ce",
   "metadata": {},
   "outputs": [],
   "source": [
    "# Python Programming"
   ]
  },
  {
   "cell_type": "code",
   "execution_count": 3,
   "id": "e2a4a4fc-34d1-453e-9ea6-8437fbd867bb",
   "metadata": {},
   "outputs": [],
   "source": [
    "first_name = \" Victoria\""
   ]
  },
  {
   "cell_type": "code",
   "execution_count": 5,
   "id": "cfdb0df2-9fe3-4ef4-a42f-1485646242fd",
   "metadata": {},
   "outputs": [],
   "source": [
    "last_name = \"Nehemiah\""
   ]
  },
  {
   "cell_type": "code",
   "execution_count": 7,
   "id": "c0e7ad80-78e1-461a-aa24-def89d98ea66",
   "metadata": {},
   "outputs": [],
   "source": [
    "full_name = \" Nehemiah Victoria\""
   ]
  },
  {
   "cell_type": "code",
   "execution_count": 9,
   "id": "b3ac0605-c3ea-4dc3-9969-dd472f10ec00",
   "metadata": {},
   "outputs": [],
   "source": [
    "country = \"Nigeria\""
   ]
  },
  {
   "cell_type": "code",
   "execution_count": 11,
   "id": "a6ca34b1-2ccd-4b57-b7f2-26c63c05c1c0",
   "metadata": {},
   "outputs": [],
   "source": [
    "city = \"Gombe\""
   ]
  },
  {
   "cell_type": "code",
   "execution_count": 13,
   "id": "55d30d6b-df36-406c-9026-b7fe5bcb5aea",
   "metadata": {},
   "outputs": [],
   "source": [
    "age = 28"
   ]
  },
  {
   "cell_type": "code",
   "execution_count": 15,
   "id": "a05132d0-9a65-41df-96d0-b589cc71e875",
   "metadata": {},
   "outputs": [],
   "source": [
    "year = 1996"
   ]
  },
  {
   "cell_type": "code",
   "execution_count": 17,
   "id": "f38e7432-223f-4c21-b29e-7a0e32f9b97f",
   "metadata": {},
   "outputs": [],
   "source": [
    "is_married = False"
   ]
  },
  {
   "cell_type": "code",
   "execution_count": 19,
   "id": "f465a355-7e46-4fbb-a44c-9a420444fa6b",
   "metadata": {},
   "outputs": [],
   "source": [
    "is_true = True"
   ]
  },
  {
   "cell_type": "code",
   "execution_count": 21,
   "id": "6c0162be-358e-4df0-8623-aa5cc21b6b8c",
   "metadata": {},
   "outputs": [],
   "source": [
    "is_light_on = True"
   ]
  },
  {
   "cell_type": "code",
   "execution_count": 25,
   "id": "50ceda87-2bf8-48a3-9ce7-78c6fc0da152",
   "metadata": {},
   "outputs": [],
   "source": [
    "first_name, last_name, country, city, age = \"Victoria\", \"Nehemiah\", \"Nigeria\", \"Gombe\", 28"
   ]
  },
  {
   "cell_type": "code",
   "execution_count": null,
   "id": "9b3fadc3-1c30-4d65-9bbf-8333a01f3586",
   "metadata": {},
   "outputs": [],
   "source": []
  }
 ],
 "metadata": {
  "kernelspec": {
   "display_name": "Python 3 (ipykernel)",
   "language": "python",
   "name": "python3"
  },
  "language_info": {
   "codemirror_mode": {
    "name": "ipython",
    "version": 3
   },
   "file_extension": ".py",
   "mimetype": "text/x-python",
   "name": "python",
   "nbconvert_exporter": "python",
   "pygments_lexer": "ipython3",
   "version": "3.12.4"
  }
 },
 "nbformat": 4,
 "nbformat_minor": 5
}
