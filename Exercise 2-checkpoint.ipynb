{
 "cells": [
  {
   "cell_type": "code",
   "execution_count": 6,
   "id": "5a4addd8-cc90-41ad-96b3-46f68cbc5bf2",
   "metadata": {},
   "outputs": [
    {
     "name": "stdout",
     "output_type": "stream",
     "text": [
      "<class 'str'>\n"
     ]
    }
   ],
   "source": [
    "first_name = \"Victoria\"\n",
    "print (type (first_name) )"
   ]
  },
  {
   "cell_type": "code",
   "execution_count": 8,
   "id": "06a9ab8a-bbd6-46f5-8415-e2bf5f88e4db",
   "metadata": {},
   "outputs": [
    {
     "name": "stdout",
     "output_type": "stream",
     "text": [
      "<class 'str'>\n"
     ]
    }
   ],
   "source": [
    "last_name = \"Nehemiah\"\n",
    "print (type (last_name))"
   ]
  },
  {
   "cell_type": "code",
   "execution_count": 10,
   "id": "7a38e3a1-06d0-4ffd-8da2-2107afeb7db8",
   "metadata": {},
   "outputs": [
    {
     "name": "stdout",
     "output_type": "stream",
     "text": [
      "<class 'str'>\n"
     ]
    }
   ],
   "source": [
    "full_name = \"Nehemiah Victoria\"\n",
    "print (type (full_name))"
   ]
  },
  {
   "cell_type": "code",
   "execution_count": 12,
   "id": "e712fe55-603c-401c-b6d8-a124ff019a03",
   "metadata": {},
   "outputs": [
    {
     "name": "stdout",
     "output_type": "stream",
     "text": [
      "<class 'str'>\n"
     ]
    }
   ],
   "source": [
    "country = \"Nigeria\"\n",
    "print(type (country))"
   ]
  },
  {
   "cell_type": "code",
   "execution_count": 14,
   "id": "f1dd1536-edd5-424b-88c0-6e20e738c353",
   "metadata": {},
   "outputs": [
    {
     "name": "stdout",
     "output_type": "stream",
     "text": [
      "<class 'int'>\n"
     ]
    }
   ],
   "source": [
    "age = 29\n",
    "print (type(age))"
   ]
  },
  {
   "cell_type": "code",
   "execution_count": 16,
   "id": "db6a60eb-68a8-4c9a-9318-a004d5d4fc8e",
   "metadata": {},
   "outputs": [
    {
     "name": "stdout",
     "output_type": "stream",
     "text": [
      "<class 'int'>\n"
     ]
    }
   ],
   "source": [
    "year = 1995\n",
    "print (type (year))"
   ]
  },
  {
   "cell_type": "code",
   "execution_count": 20,
   "id": "524b5c51-f594-43d4-88d7-bf1e6088b4aa",
   "metadata": {},
   "outputs": [
    {
     "name": "stdout",
     "output_type": "stream",
     "text": [
      "<class 'bool'>\n"
     ]
    }
   ],
   "source": [
    "is_married = False\n",
    "print (type (is_married))"
   ]
  },
  {
   "cell_type": "code",
   "execution_count": 26,
   "id": "cd9e5ede-0361-43c4-93e6-5f2be9c94112",
   "metadata": {},
   "outputs": [
    {
     "name": "stdout",
     "output_type": "stream",
     "text": [
      "<class 'bool'>\n"
     ]
    }
   ],
   "source": [
    "is_light_on = True\n",
    "print (type (is_light_on))"
   ]
  },
  {
   "cell_type": "code",
   "execution_count": 28,
   "id": "21bd1c88-8c2f-45eb-b905-ace6e7af5f93",
   "metadata": {},
   "outputs": [
    {
     "name": "stdout",
     "output_type": "stream",
     "text": [
      "8\n"
     ]
    }
   ],
   "source": [
    "print (len(first_name))"
   ]
  },
  {
   "cell_type": "code",
   "execution_count": 41,
   "id": "b754e35e-6f02-418c-bf31-ce615a2b34bb",
   "metadata": {},
   "outputs": [
    {
     "name": "stdout",
     "output_type": "stream",
     "text": [
      "First_name and Last_name are of equal length.\n"
     ]
    }
   ],
   "source": [
    "length_first_name = len(first_name)\n",
    "length_last_name = len(last_name)\n",
    "if length_first_name > length_last_name:\n",
    "    print(\"First_name is longer.\")\n",
    "elif length_first_name < length_last_name:\n",
    "    print(\"Last_name is longer.\")\n",
    "else: print(\"First_name and Last_name are of equal length.\")"
   ]
  },
  {
   "cell_type": "code",
   "execution_count": 54,
   "id": "a059aee6-bd8b-4f66-aa3e-0e923768f907",
   "metadata": {},
   "outputs": [
    {
     "name": "stdout",
     "output_type": "stream",
     "text": [
      "9\n"
     ]
    }
   ],
   "source": [
    "num_one = 5\n",
    "num_two = 4\n",
    "total = num_one + num_two\n",
    "print(total)"
   ]
  },
  {
   "cell_type": "code",
   "execution_count": 56,
   "id": "556e3cb3-4e0f-4dbc-b92a-c5c8ce9a1b69",
   "metadata": {},
   "outputs": [
    {
     "name": "stdout",
     "output_type": "stream",
     "text": [
      "-1\n"
     ]
    }
   ],
   "source": [
    "diff = num_two - num_one\n",
    "print (diff)"
   ]
  },
  {
   "cell_type": "code",
   "execution_count": 60,
   "id": "0bc69f3e-5786-4488-a71c-c682af292e00",
   "metadata": {},
   "outputs": [
    {
     "name": "stdout",
     "output_type": "stream",
     "text": [
      "20\n"
     ]
    }
   ],
   "source": [
    "product = num_two * num_one\n",
    "print (product)"
   ]
  },
  {
   "cell_type": "code",
   "execution_count": 62,
   "id": "e8cee296-bff9-4bac-aacc-9374869ba534",
   "metadata": {},
   "outputs": [
    {
     "name": "stdout",
     "output_type": "stream",
     "text": [
      "1.25\n"
     ]
    }
   ],
   "source": [
    "division = num_one / num_two\n",
    "print (division)"
   ]
  },
  {
   "cell_type": "code",
   "execution_count": 64,
   "id": "533c318f-cf60-4ee4-b7cf-e76ecb025a3f",
   "metadata": {},
   "outputs": [
    {
     "name": "stdout",
     "output_type": "stream",
     "text": [
      "1\n"
     ]
    }
   ],
   "source": [
    "remainder = num_one % num_two\n",
    "print (remainder)"
   ]
  },
  {
   "cell_type": "code",
   "execution_count": 66,
   "id": "3ad3c5c4-6e62-4b98-ad80-6a643b23f26b",
   "metadata": {},
   "outputs": [
    {
     "name": "stdout",
     "output_type": "stream",
     "text": [
      "625\n"
     ]
    }
   ],
   "source": [
    "exp = num_one ** num_two\n",
    "print (exp)"
   ]
  },
  {
   "cell_type": "code",
   "execution_count": 70,
   "id": "933bc0df-8482-4651-b3bb-4ccdd0b38748",
   "metadata": {},
   "outputs": [
    {
     "name": "stdout",
     "output_type": "stream",
     "text": [
      "1\n"
     ]
    }
   ],
   "source": [
    "floor_division = num_one // num_two\n",
    "print (floor_division)"
   ]
  },
  {
   "cell_type": "code",
   "execution_count": 81,
   "id": "0b3309f2-0633-4178-a346-1c200a24bdf5",
   "metadata": {},
   "outputs": [
    {
     "name": "stdout",
     "output_type": "stream",
     "text": [
      "Area of the circle: 2827.4333882308138 square meters\n"
     ]
    }
   ],
   "source": [
    "import math\n",
    "radius = 30 # in meters\n",
    "area_of_circle = math.pi * (radius ** 2)\n",
    "print(f\"Area of the circle: {area_of_circle} square meters\")"
   ]
  },
  {
   "cell_type": "code",
   "execution_count": 85,
   "id": "c605acef-4e92-4510-b345-7b5b0de8bfea",
   "metadata": {},
   "outputs": [
    {
     "name": "stdout",
     "output_type": "stream",
     "text": [
      " Circumference of the circle: 188.49555921538757 meters\n"
     ]
    }
   ],
   "source": [
    "circumference_of_circle = 2 * math.pi * radius\n",
    "print(f\" Circumference of the circle: {circumference_of_circle} meters\")"
   ]
  },
  {
   "cell_type": "code",
   "execution_count": 91,
   "id": "47efbadd-95d0-4789-b93c-bcad4445862b",
   "metadata": {},
   "outputs": [
    {
     "name": "stdin",
     "output_type": "stream",
     "text": [
      "Enter the radius of the circle:  20.666\n"
     ]
    },
    {
     "name": "stdout",
     "output_type": "stream",
     "text": [
      "The area of the circle is: 1341.722561998605 square meters\n"
     ]
    }
   ],
   "source": [
    "radius = float(input(\"Enter the radius of the circle: \"))\n",
    "area_of_circle = math.pi * (radius ** 2)\n",
    "print(f\"The area of the circle is: {area_of_circle} square meters\")\n"
   ]
  },
  {
   "cell_type": "code",
   "execution_count": 97,
   "id": "630a2e90-7d66-4404-871a-e8c9f4ad60c4",
   "metadata": {},
   "outputs": [
    {
     "name": "stdin",
     "output_type": "stream",
     "text": [
      "Enter your first_name:  Victoria\n",
      "Enter your last name:  Nehemiah\n",
      "Enter your country:  Nigera\n",
      "Enter your age:  29\n"
     ]
    },
    {
     "name": "stdout",
     "output_type": "stream",
     "text": [
      "\n",
      "First Name: Victoria\n",
      "Last Name: Nehemiah\n",
      "Country: Nigera\n",
      "Age: 29\n"
     ]
    }
   ],
   "source": [
    "first_name = input(\"Enter your first_name: \")\n",
    "last_name = input(\"Enter your last name: \")\n",
    "country = input(\"Enter your country: \")\n",
    "age = int(input(\"Enter your age: \"))\n",
    "print(f\"\\nFirst Name: {first_name}\\nLast Name: {last_name}\\nCountry: {country}\\nAge: {age}\")\n",
    "\n"
   ]
  },
  {
   "cell_type": "code",
   "execution_count": 101,
   "id": "b8a99762-61d2-40a3-b024-9c563740649c",
   "metadata": {},
   "outputs": [
    {
     "name": "stdout",
     "output_type": "stream",
     "text": [
      "['False', 'None', 'True', 'and', 'as', 'assert', 'async', 'await', 'break', 'class', 'continue', 'def', 'del', 'elif', 'else', 'except', 'finally', 'for', 'from', 'global', 'if', 'import', 'in', 'is', 'lambda', 'nonlocal', 'not', 'or', 'pass', 'raise', 'return', 'try', 'while', 'with', 'yield']\n"
     ]
    }
   ],
   "source": [
    "import keyword\n",
    "print(keyword.kwlist)"
   ]
  },
  {
   "cell_type": "code",
   "execution_count": null,
   "id": "10f76e7e-8c7a-4f9c-8c00-cfd0db4639fe",
   "metadata": {},
   "outputs": [],
   "source": []
  }
 ],
 "metadata": {
  "kernelspec": {
   "display_name": "Python 3 (ipykernel)",
   "language": "python",
   "name": "python3"
  },
  "language_info": {
   "codemirror_mode": {
    "name": "ipython",
    "version": 3
   },
   "file_extension": ".py",
   "mimetype": "text/x-python",
   "name": "python",
   "nbconvert_exporter": "python",
   "pygments_lexer": "ipython3",
   "version": "3.12.4"
  }
 },
 "nbformat": 4,
 "nbformat_minor": 5
}
